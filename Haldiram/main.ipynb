{
 "cells": [
  {
   "cell_type": "code",
   "execution_count": null,
   "id": "bc2c3a72",
   "metadata": {},
   "outputs": [],
   "source": [
    "%pip install snscrape\n"
   ]
  },
  {
   "cell_type": "code",
   "execution_count": null,
   "id": "361200d6",
   "metadata": {},
   "outputs": [],
   "source": [
    "import pandas as pd\n",
    "import snscrape.modules.twitter as sntwitter\n"
   ]
  },
  {
   "cell_type": "code",
   "execution_count": null,
   "metadata": {},
   "outputs": [],
   "source": [
    "%pip uninstall snscrape -y\n"
   ]
  },
  {
   "cell_type": "code",
   "execution_count": null,
   "id": "0a8ba5c4",
   "metadata": {},
   "outputs": [],
   "source": [
    "%pip install git+https://github.com/JustAnotherArchivist/snscrape.git\n"
   ]
  },
  {
   "cell_type": "code",
   "execution_count": null,
   "id": "21e3b60c",
   "metadata": {},
   "outputs": [],
   "source": []
  },
  {
   "cell_type": "code",
   "execution_count": null,
   "id": "652db091",
   "metadata": {},
   "outputs": [],
   "source": [
    "import pandas as pd\n",
    "import snscrape.modules.twitter as sntwitter\n"
   ]
  },
  {
   "cell_type": "code",
   "execution_count": null,
   "id": "bd800d15",
   "metadata": {},
   "outputs": [],
   "source": [
    "import pandas as pd\n",
    "import snscrape.modules.twitter as sntwitter\n",
    "\n",
    "tweets = []\n",
    "user = \"haldiram\"  # You can try usernames like Haldiram’s, Swiggy, Zomato, etc.\n",
    "\n",
    "for i, tweet in enumerate(sntwitter.TwitterUserScraper(user).get_items()):\n",
    "    if i > 100:\n",
    "        break\n",
    "    tweets.append([tweet.date, tweet.user.username, tweet.content])\n",
    "\n",
    "df = pd.DataFrame(tweets, columns=[\"Date\", \"User\", \"Tweet\"])\n",
    "df.head()\n"
   ]
  },
  {
   "cell_type": "code",
   "execution_count": null,
   "id": "11e9c7f7",
   "metadata": {},
   "outputs": [],
   "source": [
    "%pip install pycaret==3.3.0\n"
   ]
  },
  {
   "cell_type": "code",
   "execution_count": null,
   "id": "dddfae5b",
   "metadata": {},
   "outputs": [],
   "source": [
    "import pycaret"
   ]
  },
  {
   "cell_type": "code",
   "execution_count": null,
   "id": "ac8bd16f",
   "metadata": {},
   "outputs": [],
   "source": [
    "from pycaret.datasets import get_data\n",
    "data = get_data('iris')\n",
    "data.head()\n"
   ]
  },
  {
   "cell_type": "code",
   "execution_count": null,
   "id": "276c79eb",
   "metadata": {},
   "outputs": [],
   "source": [
    "%pip install pycaret==3.3.0 --upgrade --force-reinstall\n"
   ]
  },
  {
   "cell_type": "code",
   "execution_count": null,
   "id": "2bd911da",
   "metadata": {},
   "outputs": [],
   "source": []
  }
 ],
 "metadata": {
  "kernelspec": {
   "display_name": "Python 3",
   "language": "python",
   "name": "python3"
  },
  "language_info": {
   "codemirror_mode": {
    "name": "ipython",
    "version": 3
   },
   "file_extension": ".py",
   "mimetype": "text/x-python",
   "name": "python",
   "nbconvert_exporter": "python",
   "pygments_lexer": "ipython3",
   "version": "3.10.0"
  }
 },
 "nbformat": 4,
 "nbformat_minor": 5
}
